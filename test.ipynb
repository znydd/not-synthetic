{
 "cells": [
  {
   "cell_type": "code",
   "execution_count": 50,
   "id": "0fdc704d",
   "metadata": {},
   "outputs": [],
   "source": [
    "import json"
   ]
  },
  {
   "cell_type": "code",
   "execution_count": 48,
   "id": "0ebb82ce",
   "metadata": {},
   "outputs": [],
   "source": [
    "file_path = 'relevant_test_base.txt'\n",
    "\n",
    "# Read all lines from the file\n",
    "with open(file_path, 'r') as infile:\n",
    "    lines = infile.readlines()\n",
    "\n",
    "# Filter, format, and add commas to each non-empty line\n",
    "formatted_lines = [f'\"{line.strip()}\",\\n' for line in lines if line.strip()]\n",
    "\n",
    "# Write the cleaned and formatted data back to the same file\n",
    "with open(file_path, 'w') as outfile:\n",
    "    outfile.writelines(formatted_lines)"
   ]
  },
  {
   "cell_type": "code",
   "execution_count": 49,
   "id": "b97317e2",
   "metadata": {},
   "outputs": [
    {
     "name": "stdout",
     "output_type": "stream",
     "text": [
      "Correct: 2010\n",
      "Incorrect: 2\n"
     ]
    }
   ],
   "source": [
    "with open('relevant_test_base.json', 'r', encoding='utf-8') as i:\n",
    "    data = json.load(i)\n",
    "irr = 0\n",
    "rel = 0\n",
    "for p in data:\n",
    "    if p == \"Irrelevant\":\n",
    "        irr+=1\n",
    "    elif p == \"Relevant\":\n",
    "        rel+=1\n",
    "    else:\n",
    "        print(p)\n",
    "        break\n",
    "print(f\"Correct: {rel}\")\n",
    "print(f\"Incorrect: {irr}\")\n"
   ]
  },
  {
   "cell_type": "code",
   "execution_count": 41,
   "id": "65d940b0",
   "metadata": {},
   "outputs": [
    {
     "data": {
      "text/plain": [
       "0.5891621829362029"
      ]
     },
     "execution_count": 41,
     "metadata": {},
     "output_type": "execute_result"
    }
   ],
   "source": [
    "1533/2602"
   ]
  },
  {
   "cell_type": "markdown",
   "id": "bf672499",
   "metadata": {},
   "source": [
    "## Irrelevant\n",
    "\n",
    "### Gemma 3 1B(BF16)\n",
    "Correct: 1069\n",
    "Incorrect: 1533\n",
    "\n",
    "## Gemma 3 4B(BF16)\n",
    "Correct: 2015\n",
    "Incorrect: 586\n",
    "\n",
    "## Gemma 3 12B(q4_0)\n",
    "Correct: 2484\n",
    "Incorrect: 118\n",
    "\n",
    "## Qwen3 8B(8Q_0)\n",
    "\n",
    "will test with diff prompt"
   ]
  },
  {
   "cell_type": "markdown",
   "id": "8b2a23c7",
   "metadata": {},
   "source": [
    "## Rrelevant\n",
    "\n",
    "## Gemma 3 12B(q4_0)\n",
    "Correct: 2010\n",
    "Incorrect: 2"
   ]
  }
 ],
 "metadata": {
  "kernelspec": {
   "display_name": "not-synthetic",
   "language": "python",
   "name": "python3"
  },
  "language_info": {
   "codemirror_mode": {
    "name": "ipython",
    "version": 3
   },
   "file_extension": ".py",
   "mimetype": "text/x-python",
   "name": "python",
   "nbconvert_exporter": "python",
   "pygments_lexer": "ipython3",
   "version": "3.12.3"
  }
 },
 "nbformat": 4,
 "nbformat_minor": 5
}
