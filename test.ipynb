{
 "cells": [
  {
   "cell_type": "code",
   "execution_count": 3,
   "id": "0fdc704d",
   "metadata": {},
   "outputs": [],
   "source": [
    "import json"
   ]
  },
  {
   "cell_type": "code",
   "execution_count": 1,
   "id": "0ebb82ce",
   "metadata": {},
   "outputs": [],
   "source": [
    "file_path = 'relevant_test_base.txt'\n",
    "\n",
    "# Read all lines from the file\n",
    "with open(file_path, 'r') as infile:\n",
    "    lines = infile.readlines()\n",
    "\n",
    "# Filter, format, and add commas to each non-empty line\n",
    "formatted_lines = [f'\"{line.strip()}\",\\n' for line in lines if line.strip()]\n",
    "\n",
    "# Write the cleaned and formatted data back to the same file\n",
    "with open(file_path, 'w') as outfile:\n",
    "    outfile.writelines(formatted_lines)"
   ]
  },
  {
   "cell_type": "code",
   "execution_count": 5,
   "id": "b97317e2",
   "metadata": {},
   "outputs": [
    {
     "name": "stdout",
     "output_type": "stream",
     "text": [
      "Correct: 2012\n",
      "Incorrect: 0\n"
     ]
    }
   ],
   "source": [
    "with open('relevant_test_base.json', 'r', encoding='utf-8') as i:\n",
    "    data = json.load(i)\n",
    "irr = 0\n",
    "rel = 0\n",
    "for p in data:\n",
    "    if p == \"Irrelevant\":\n",
    "        irr+=1\n",
    "    elif p == \"Relevant\":\n",
    "        rel+=1\n",
    "    else:\n",
    "        print(p)\n",
    "        break\n",
    "print(f\"Correct: {rel}\")\n",
    "print(f\"Incorrect: {irr}\")\n"
   ]
  },
  {
   "cell_type": "markdown",
   "id": "bf672499",
   "metadata": {},
   "source": [
    "## Irrelevant\n",
    "\n",
    "### Gemma 3 1B(BF16)\n",
    "Correct: 1069\n",
    "Incorrect: 1533\n",
    "\n",
    "## Gemma 3 4B(BF16)\n",
    "Correct: 2015\n",
    "Incorrect: 586\n",
    "\n",
    "## Gemma 3 12B(q4_0)\n",
    "Correct: 2484\n",
    "Incorrect: 118\n",
    "\n",
    "## Qwen3 8B(8Q_0)\n",
    "\n",
    "will test with diff prompt"
   ]
  },
  {
   "cell_type": "markdown",
   "id": "8b2a23c7",
   "metadata": {},
   "source": [
    "## Rrelevant\n",
    "\n",
    "## Gemma 3 12B(q4_0)\n",
    "Correct: 2010\n",
    "Incorrect: 2\n",
    "\n",
    "## Gemma 3 4B(BF16)\n",
    "Correct: 2012\n",
    "Incorrect: 0"
   ]
  },
  {
   "cell_type": "markdown",
   "id": "713b3167",
   "metadata": {},
   "source": [
    "first fine tune\n",
    "[{'loss': 8.9905, 'grad_norm': 77.3919448852539, 'learning_rate': 0.0, 'epoch': 0.004333694474539545, 'step': 1}, {'loss': 9.5242, 'grad_norm': 77.61088562011719, 'learning_rate': 4e-05, 'epoch': 0.00866738894907909, 'step': 2}, {'loss': 3.9963, 'grad_norm': 82.71790313720703, 'learning_rate': 8e-05, 'epoch': 0.013001083423618635, 'step': 3}, {'loss': 0.3209, 'grad_norm': 6.959298610687256, 'learning_rate': 0.00012, 'epoch': 0.01733477789815818, 'step': 4}, {'loss': 0.1282, 'grad_norm': 6.028470516204834, 'learning_rate': 0.00016, 'epoch': 0.021668472372697724, 'step': 5}, {'loss': 0.0018, 'grad_norm': 0.18965975940227509, 'learning_rate': 0.0002, 'epoch': 0.02600216684723727, 'step': 6}, {'loss': 1.0953, 'grad_norm': 20.03718376159668, 'learning_rate': 0.000192, 'epoch': 0.030335861321776816, 'step': 7}, {'loss': 0.063, 'grad_norm': 6.762778282165527, 'learning_rate': 0.00018400000000000003, 'epoch': 0.03466955579631636, 'step': 8}, {'loss': 0.0009, 'grad_norm': 0.026876594871282578, 'learning_rate': 0.00017600000000000002, 'epoch': 0.0390032502708559, 'step': 9}, {'loss': 0.0003, 'grad_norm': 0.0006504718912765384, 'learning_rate': 0.000168, 'epoch': 0.04333694474539545, 'step': 10}, {'loss': 0.0003, 'grad_norm': 0.01324523612856865, 'learning_rate': 0.00016, 'epoch': 0.047670639219934995, 'step': 11}, {'loss': 0.0003, 'grad_norm': 0.0004344254557508975, 'learning_rate': 0.000152, 'epoch': 0.05200433369447454, 'step': 12}, {'loss': 0.0005, 'grad_norm': 0.0031484514474868774, 'learning_rate': 0.000144, 'epoch': 0.056338028169014086, 'step': 13}, {'loss': 0.001, 'grad_norm': 0.0994938313961029, 'learning_rate': 0.00013600000000000003, 'epoch': 0.06067172264355363, 'step': 14}, {'loss': 0.0008, 'grad_norm': 0.07634690403938293, 'learning_rate': 0.00012800000000000002, 'epoch': 0.06500541711809317, 'step': 15}, {'loss': 0.0005, 'grad_norm': 0.0011686731595546007, 'learning_rate': 0.00012, 'epoch': 0.06933911159263272, 'step': 16}, {'loss': 0.0006, 'grad_norm': 0.002050110837444663, 'learning_rate': 0.00011200000000000001, 'epoch': 0.07367280606717226, 'step': 17}, {'loss': 0.0006, 'grad_norm': 0.012444892898201942, 'learning_rate': 0.00010400000000000001, 'epoch': 0.0780065005417118, 'step': 18}, {'loss': 0.0004, 'grad_norm': 0.001102735404856503, 'learning_rate': 9.6e-05, 'epoch': 0.08234019501625135, 'step': 19}, {'loss': 0.001, 'grad_norm': 0.1630403995513916, 'learning_rate': 8.800000000000001e-05, 'epoch': 0.0866738894907909, 'step': 20}, {'loss': 0.0005, 'grad_norm': 0.001400527311488986, 'learning_rate': 8e-05, 'epoch': 0.09100758396533044, 'step': 21}, {'loss': 0.0004, 'grad_norm': 0.0015487344935536385, 'learning_rate': 7.2e-05, 'epoch': 0.09534127843986999, 'step': 22}, {'loss': 0.0004, 'grad_norm': 0.0010044159134849906, 'learning_rate': 6.400000000000001e-05, 'epoch': 0.09967497291440953, 'step': 23}, {'loss': 0.0006, 'grad_norm': 0.04554271697998047, 'learning_rate': 5.6000000000000006e-05, 'epoch': 0.10400866738894908, 'step': 24}, {'loss': 0.0003, 'grad_norm': 0.00035318275331519544, 'learning_rate': 4.8e-05, 'epoch': 0.10834236186348863, 'step': 25}, {'loss': 0.0004, 'grad_norm': 0.001571118482388556, 'learning_rate': 4e-05, 'epoch': 0.11267605633802817, 'step': 26}, {'loss': 0.0003, 'grad_norm': 0.00032690606894902885, 'learning_rate': 3.2000000000000005e-05, 'epoch': 0.11700975081256772, 'step': 27}, {'loss': 0.0003, 'grad_norm': 0.00042416612268425524, 'learning_rate': 2.4e-05, 'epoch': 0.12134344528710726, 'step': 28}, {'loss': 0.0003, 'grad_norm': 0.0003051543317269534, 'learning_rate': 1.6000000000000003e-05, 'epoch': 0.1256771397616468, 'step': 29}, {'loss': 0.0003, 'grad_norm': 0.00024314827169291675, 'learning_rate': 8.000000000000001e-06, 'epoch': 0.13001083423618634, 'step': 30}, {'train_runtime': 346.856, 'train_samples_per_second': 1.384, 'train_steps_per_second': 0.086, 'total_flos': 3235771948705344.0, 'train_loss': 0.8043718196558378, 'epoch': 0.13001083423618634, 'step': 30}]\n"
   ]
  }
 ],
 "metadata": {
  "kernelspec": {
   "display_name": "not-synthetic",
   "language": "python",
   "name": "python3"
  },
  "language_info": {
   "codemirror_mode": {
    "name": "ipython",
    "version": 3
   },
   "file_extension": ".py",
   "mimetype": "text/x-python",
   "name": "python",
   "nbconvert_exporter": "python",
   "pygments_lexer": "ipython3",
   "version": "3.12.3"
  }
 },
 "nbformat": 4,
 "nbformat_minor": 5
}
