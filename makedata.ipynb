{
 "cells": [
  {
   "cell_type": "code",
   "execution_count": 2,
   "id": "4807e392",
   "metadata": {},
   "outputs": [
    {
     "data": {
      "text/plain": [
       "float"
      ]
     },
     "execution_count": 2,
     "metadata": {},
     "output_type": "execute_result"
    }
   ],
   "source": [
    "import random\n",
    "x = random.choices([1.0, 1.1, 1.2, 1.3])[0]\n",
    "type(x)"
   ]
  },
  {
   "cell_type": "code",
   "execution_count": 24,
   "id": "9c253f1a",
   "metadata": {},
   "outputs": [
    {
     "data": {
      "text/plain": [
       "1.8"
      ]
     },
     "execution_count": 24,
     "metadata": {},
     "output_type": "execute_result"
    }
   ],
   "source": [
    "random_num = round(random.uniform(1.20, 1.80), 2)\n",
    "random_num\n"
   ]
  },
  {
   "cell_type": "code",
   "execution_count": 26,
   "id": "9d559509",
   "metadata": {},
   "outputs": [],
   "source": [
    "x = set()\n",
    "x.add(4)\n",
    "x.add(8)\n",
    "x.add(9)"
   ]
  },
  {
   "cell_type": "code",
   "execution_count": 28,
   "id": "0efcbe9a",
   "metadata": {},
   "outputs": [],
   "source": [
    "import json"
   ]
  },
  {
   "cell_type": "code",
   "execution_count": 29,
   "id": "d9af50c6",
   "metadata": {},
   "outputs": [
    {
     "name": "stdout",
     "output_type": "stream",
     "text": [
      "Mapping EER Model Constructs to Relations, focusing on options for Specialization and Generalization.\n",
      "Database Systems: ER-to-Relational Mapping Algorithm\n",
      "Functional Dependencies and Normalization for Relational Databases\n",
      "Database Normalization and Functional Dependencies\n",
      "A comprehensive tutorial on using various MySQL SELECT query keywords and functions for data retrieval.\n",
      "An educational lecture on Indexing and Hashing in Database Systems, covering concepts like index files, B+ trees, static hashing, hash functions, and handling bucket overflows.\n",
      "Database Indexing with B+ Trees\n",
      "An educational lecture on Chapter 14: Indexing, covering basic concepts, types of indices, and B+-Trees for database systems.\n",
      "Relational Database Design: ER-to-Relational Mapping Algorithm\n",
      "An educational lecture on Transaction Processing in databases, covering Concurrency Control and Recovery.\n",
      "Database Transactions and ACID Properties\n",
      "Introduction to PID (Proportional-Integral-Derivative) Control System Theory in Robotics\n",
      "Introduction to Robotics: Block Diagram Solving and Summing Points\n",
      "Introduction to Robotics: Control System Theory\n",
      "Introduction to Robotics: Robot Navigation\n",
      "Introduction to Robotics: A lecture on Robot Navigation, focusing on Mapping and Exploration using the Occupancy Grid (OG) mapping algorithm and the Frontier Based Exploration technique.\n",
      "An educational guide on how to prepare and deliver a webinar presentation for the ENG091 course.\n",
      "A classroom lecture on analyzing and answering reading comprehension questions, focusing on structure, language, and content organization.\n",
      "Guidance on Writing a Narrative Essay Outline\n",
      "An introduction to data structures, focusing on the concepts of arrays, lists, and the operations of shifting and rotating array elements.\n",
      "Probability Theory and Naive Bayes Classifier\n",
      "A lecture on Support Vector Machines (SVM), covering the definition, application in classification and regression, and the concepts of hyperplanes, margins, and support vectors.\n",
      "An educational lecture on the concept, benefits, and implementation of dummy headed linked lists in data structures.\n",
      "Subnetting and IP Addressing in Computer Networks\n"
     ]
    }
   ],
   "source": [
    "with open(\"ref_data.json\", 'r', encoding='utf-8') as f:\n",
    "    data = json.load(f)\n",
    "\n",
    "for vid in data:\n",
    "    print(vid['video_topic'])\n"
   ]
  },
  {
   "cell_type": "code",
   "execution_count": 2,
   "id": "4bf55f8b",
   "metadata": {},
   "outputs": [
    {
     "data": {
      "text/plain": [
       "'Communications/Journalism'"
      ]
     },
     "execution_count": 2,
     "metadata": {},
     "output_type": "execute_result"
    }
   ],
   "source": [
    "OPIC = ['Business Administration/Management',\n",
    " 'Accounting',\n",
    " 'Finance',\n",
    " 'Marketing',\n",
    " 'Economics',\n",
    " 'International Business',\n",
    " 'Entrepreneurship',\n",
    " 'Nursing',\n",
    " 'Health Professions and Related Programs',\n",
    " 'Biology/Biological Sciences (pre-med track)',\n",
    " 'Biomedical Sciences',\n",
    " 'Public Health',\n",
    " 'Physical Therapy',\n",
    " 'Pharmacy',\n",
    " 'Medical Assisting',\n",
    " 'Psychology',\n",
    " 'Sociology',\n",
    " 'Political Science',\n",
    " 'Anthropology',\n",
    " 'History',\n",
    " 'Criminology/Criminal Justice',\n",
    " 'Social Work',\n",
    " 'Biology',\n",
    " 'Biochemistry',\n",
    " 'Microbiology',\n",
    " 'Neuroscience',\n",
    " 'Environmental Science',\n",
    " 'Biotechnology',\n",
    " 'Mechanical Engineering',\n",
    " 'Electrical Engineering',\n",
    " 'Civil Engineering',\n",
    " 'Chemical Engineering',\n",
    " 'Aerospace Engineering',\n",
    " 'Industrial Engineering',\n",
    " 'Engineering Technologies',\n",
    " 'Computer Science',\n",
    " 'Information Technology',\n",
    " 'Software Engineering',\n",
    " 'Data Science',\n",
    " 'Cybersecurity',\n",
    " 'Artificial Intelligence',\n",
    " 'Elementary Education',\n",
    " 'Secondary Education',\n",
    " 'Special Education',\n",
    " 'Educational Leadership',\n",
    " 'Early Childhood Education',\n",
    " 'English Language and Literature',\n",
    " 'Philosophy',\n",
    " 'Liberal Arts and Sciences/General Studies',\n",
    " 'Visual and Performing Arts (e.g., Fine Arts, Theater, Music)',\n",
    " 'Communications/Journalism',\n",
    " 'Graphic Design',\n",
    " 'Foreign Languages and Literatures',\n",
    " 'Physics',\n",
    " 'Chemistry',\n",
    " 'Mathematics',\n",
    " 'Statistics',\n",
    " 'Astronomy',\n",
    " 'Geology/Earth Sciences',\n",
    " 'Agriculture and Related Sciences',\n",
    " 'Architecture',\n",
    " 'Law (Pre-Law tracks)',\n",
    " 'Hospitality and Tourism Management',\n",
    " 'Sports Management/Parks and Recreation',\n",
    " 'Culinary Arts',\n",
    " 'Veterinary Technology']\n",
    "OPIC[50]"
   ]
  },
  {
   "cell_type": "code",
   "execution_count": 4,
   "id": "703a8a8a",
   "metadata": {},
   "outputs": [
    {
     "data": {
      "text/plain": [
       "15"
      ]
     },
     "execution_count": 4,
     "metadata": {},
     "output_type": "execute_result"
    }
   ],
   "source": [
    "x =['Graphic Design',\n",
    " 'Foreign Languages and Literatures',\n",
    " 'Physics',\n",
    " 'Chemistry',\n",
    " 'Mathematics',\n",
    " 'Statistics',\n",
    " 'Astronomy',\n",
    " 'Geology/Earth Sciences',\n",
    " 'Agriculture and Related Sciences',\n",
    " 'Architecture',\n",
    " 'Law (Pre-Law tracks)',\n",
    " 'Hospitality and Tourism Management',\n",
    " 'Sports Management/Parks and Recreation',\n",
    " 'Culinary Arts',\n",
    " 'Veterinary Technology']\n",
    "len(x)"
   ]
  },
  {
   "cell_type": "code",
   "execution_count": 2,
   "id": "d11010c0",
   "metadata": {},
   "outputs": [
    {
     "data": {
      "text/plain": [
       "28"
      ]
     },
     "execution_count": 2,
     "metadata": {},
     "output_type": "execute_result"
    }
   ],
   "source": [
    "TOPIC_E = ['Law (Pre-Law tracks)',\n",
    " 'Hospitality and Tourism Management',\n",
    " 'Sports Management/Parks and Recreation',\n",
    " 'Culinary Arts',\n",
    " 'Veterinary Technology',\n",
    "\"Mapping EER Model Constructs to Relations, focusing on options for Specialization and Generalization.\"\n",
    "\"Database Systems: ER-to-Relational Mapping Algorithm\",\n",
    "\"Functional Dependencies and Normalization for Relational Databases\",\n",
    "\"Database Normalization and Functional Dependencies\",\n",
    "\"A comprehensive tutorial on using various MySQL SELECT query keywords and functions for data retrieval.\",\n",
    "\"An educational lecture on Indexing and Hashing in Database Systems, covering concepts like index files, B+ trees, static hashing, hash functions, and handling bucket overflows.\",\n",
    "\"Database Indexing with B+ Trees\",\n",
    "\"An educational lecture on Chapter 14: Indexing, covering basic concepts, types of indices, and B+-Trees for database systems.\",\n",
    "\"Relational Database Design: ER-to-Relational Mapping Algorithm\",\n",
    "\"An educational lecture on Transaction Processing in databases, covering Concurrency Control and Recovery.\",\n",
    "\"Database Transactions and ACID Properties\",\n",
    "\"Introduction to PID (Proportional-Integral-Derivative) Control System Theory in Robotics\",\n",
    "\"Introduction to Robotics: Block Diagram Solving and Summing Points\",\n",
    "\"Introduction to Robotics: Control System Theory\",\n",
    "\"Introduction to Robotics: Robot Navigation\",\n",
    "\"Introduction to Robotics: A lecture on Robot Navigation, focusing on Mapping and Exploration using the Occupancy Grid (OG) mapping algorithm and the Frontier Based Exploration technique.\",\n",
    "\"An educational guide on how to prepare and deliver a webinar presentation for the ENG091 course.\",\n",
    "\"A classroom lecture on analyzing and answering reading comprehension questions, focusing on structure, language, and content organization.\",\n",
    "\"Guidance on Writing a Narrative Essay Outline\",\n",
    "\"An introduction to data structures, focusing on the concepts of arrays, lists, and the operations of shifting and rotating array elements.\",\n",
    "\"Probability Theory and Naive Bayes Classifier\",\n",
    "\"A lecture on Support Vector Machines (SVM), covering the definition, application in classification and regression, and the concepts of hyperplanes, margins, and support vectors.\",\n",
    "\"An educational lecture on the concept, benefits, and implementation of dummy headed linked lists in data structures.\",\n",
    "\"Subnetting and IP Addressing in Computer Networks\",\n",
    " ]\n",
    "len(TOPIC_E)"
   ]
  },
  {
   "cell_type": "code",
   "execution_count": null,
   "id": "8fc02789",
   "metadata": {},
   "outputs": [],
   "source": []
  }
 ],
 "metadata": {
  "kernelspec": {
   "display_name": "not-synthetic",
   "language": "python",
   "name": "python3"
  },
  "language_info": {
   "codemirror_mode": {
    "name": "ipython",
    "version": 3
   },
   "file_extension": ".py",
   "mimetype": "text/x-python",
   "name": "python",
   "nbconvert_exporter": "python",
   "pygments_lexer": "ipython3",
   "version": "3.12.3"
  }
 },
 "nbformat": 4,
 "nbformat_minor": 5
}
